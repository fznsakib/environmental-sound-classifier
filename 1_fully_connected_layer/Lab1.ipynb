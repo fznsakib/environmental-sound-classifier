{
  "nbformat": 4,
  "nbformat_minor": 0,
  "metadata": {
    "colab": {
      "name": "Lab1.ipynb",
      "provenance": []
    },
    "kernelspec": {
      "name": "python3",
      "display_name": "Python 3"
    }
  },
  "cells": [
    {
      "cell_type": "markdown",
      "metadata": {
        "id": "1K9Xs_sh0Mch",
        "colab_type": "text"
      },
      "source": [
        "#Lab 1 - Iris Flower Dataset"
      ]
    },
    {
      "cell_type": "markdown",
      "metadata": {
        "id": "W6Izxt4j8ASm",
        "colab_type": "text"
      },
      "source": [
        "## PyTorch Intro"
      ]
    },
    {
      "cell_type": "code",
      "metadata": {
        "id": "4dRThHE45ENd",
        "colab_type": "code",
        "colab": {}
      },
      "source": [
        "import torch\n",
        "import numpy as np"
      ],
      "execution_count": 0,
      "outputs": []
    },
    {
      "cell_type": "code",
      "metadata": {
        "id": "wMuNGMN-6pTR",
        "colab_type": "code",
        "colab": {}
      },
      "source": [
        "array_np = np.array([[1, 2, 3],\n",
        "                     [4, 5, 6]])\n",
        "array_pytorch = torch.tensor([[1, 2, 3],\n",
        "                              [4, 5, 6]])"
      ],
      "execution_count": 0,
      "outputs": []
    },
    {
      "cell_type": "code",
      "metadata": {
        "id": "oTB8SEdm7GLW",
        "colab_type": "code",
        "outputId": "5e25418a-b498-49f8-df2e-1babbc2e0a93",
        "colab": {
          "base_uri": "https://localhost:8080/"
        }
      },
      "source": [
        "x = torch.tensor([1, 2, 3], dtype=torch.float32)\n",
        "y = torch.tensor([4, 5, 6], dtype=torch.float32)\n",
        "\n",
        "# Size of x\n",
        "x.shape"
      ],
      "execution_count": 0,
      "outputs": [
        {
          "output_type": "execute_result",
          "data": {
            "text/plain": [
              "torch.Size([3])"
            ]
          },
          "metadata": {
            "tags": []
          },
          "execution_count": 3
        }
      ]
    },
    {
      "cell_type": "code",
      "metadata": {
        "id": "2WvjXwjS7YhL",
        "colab_type": "code",
        "outputId": "0685a07b-dcfc-412d-b85c-3ff1d29e5531",
        "colab": {
          "base_uri": "https://localhost:8080/"
        }
      },
      "source": [
        "# Dimensions of x\n",
        "x.dim()"
      ],
      "execution_count": 0,
      "outputs": [
        {
          "output_type": "execute_result",
          "data": {
            "text/plain": [
              "1"
            ]
          },
          "metadata": {
            "tags": []
          },
          "execution_count": 4
        }
      ]
    },
    {
      "cell_type": "code",
      "metadata": {
        "id": "XjzTtrkm7fiz",
        "colab_type": "code",
        "outputId": "a4d8a1d0-7393-4896-880e-5e8a90d0fb55",
        "colab": {
          "base_uri": "https://localhost:8080/"
        }
      },
      "source": [
        "x + y"
      ],
      "execution_count": 0,
      "outputs": [
        {
          "output_type": "execute_result",
          "data": {
            "text/plain": [
              "tensor([5., 7., 9.])"
            ]
          },
          "metadata": {
            "tags": []
          },
          "execution_count": 5
        }
      ]
    },
    {
      "cell_type": "code",
      "metadata": {
        "id": "tBPeHe_P7jPV",
        "colab_type": "code",
        "outputId": "1041c354-e297-4004-d185-7b46bf93840f",
        "colab": {
          "base_uri": "https://localhost:8080/"
        }
      },
      "source": [
        "x * y  # * performs elementwise summation"
      ],
      "execution_count": 0,
      "outputs": [
        {
          "output_type": "execute_result",
          "data": {
            "text/plain": [
              "tensor([ 4., 10., 18.])"
            ]
          },
          "metadata": {
            "tags": []
          },
          "execution_count": 6
        }
      ]
    },
    {
      "cell_type": "code",
      "metadata": {
        "id": "3W-gcVV47mHO",
        "colab_type": "code",
        "outputId": "6cf3334d-c46f-4250-d232-901a8b7ddef2",
        "colab": {
          "base_uri": "https://localhost:8080/"
        }
      },
      "source": [
        "x / y  # / performs elementwise division"
      ],
      "execution_count": 0,
      "outputs": [
        {
          "output_type": "execute_result",
          "data": {
            "text/plain": [
              "tensor([0.2500, 0.4000, 0.5000])"
            ]
          },
          "metadata": {
            "tags": []
          },
          "execution_count": 7
        }
      ]
    },
    {
      "cell_type": "code",
      "metadata": {
        "id": "HwCyZgBY7tav",
        "colab_type": "code",
        "outputId": "729171bc-eba4-416c-a02c-f3bc683a462d",
        "colab": {
          "base_uri": "https://localhost:8080/"
        }
      },
      "source": [
        "torch.dot(x, y)"
      ],
      "execution_count": 0,
      "outputs": [
        {
          "output_type": "execute_result",
          "data": {
            "text/plain": [
              "tensor(32.)"
            ]
          },
          "metadata": {
            "tags": []
          },
          "execution_count": 8
        }
      ]
    },
    {
      "cell_type": "code",
      "metadata": {
        "id": "eU0jjmSa73km",
        "colab_type": "code",
        "outputId": "50b0c21b-9be5-4b0b-b943-c5e4c12631d2",
        "colab": {
          "base_uri": "https://localhost:8080/"
        }
      },
      "source": [
        "torch.dot(x, y).dim() # this is a 0D tensor or a scalar"
      ],
      "execution_count": 0,
      "outputs": [
        {
          "output_type": "execute_result",
          "data": {
            "text/plain": [
              "0"
            ]
          },
          "metadata": {
            "tags": []
          },
          "execution_count": 9
        }
      ]
    },
    {
      "cell_type": "code",
      "metadata": {
        "id": "bTXx-t2D79QZ",
        "colab_type": "code",
        "outputId": "d1ecd3d7-546c-4120-e930-e64128c41687",
        "colab": {
          "base_uri": "https://localhost:8080/"
        }
      },
      "source": [
        "# note how `torch.dot(x, y)` produces a scalar, yet this is still wrapped in a tensor\n",
        "# to get the raw scalar value, call .item() on the tensor. This is so pytorch can \n",
        "# track the operations applied to even scalar values.\n",
        "torch.dot(x, y).item()"
      ],
      "execution_count": 0,
      "outputs": [
        {
          "output_type": "execute_result",
          "data": {
            "text/plain": [
              "32.0"
            ]
          },
          "metadata": {
            "tags": []
          },
          "execution_count": 10
        }
      ]
    },
    {
      "cell_type": "code",
      "metadata": {
        "id": "dwoRcKt68OP0",
        "colab_type": "code",
        "outputId": "d763004f-d98a-4751-b072-4b4586239078",
        "colab": {
          "base_uri": "https://localhost:8080/"
        }
      },
      "source": [
        "x.mean()"
      ],
      "execution_count": 0,
      "outputs": [
        {
          "output_type": "execute_result",
          "data": {
            "text/plain": [
              "tensor(2.)"
            ]
          },
          "metadata": {
            "tags": []
          },
          "execution_count": 11
        }
      ]
    },
    {
      "cell_type": "code",
      "metadata": {
        "id": "7dceRnrf8R72",
        "colab_type": "code",
        "outputId": "6a996460-6657-4687-f522-f441c4e965ff",
        "colab": {
          "base_uri": "https://localhost:8080/"
        }
      },
      "source": [
        "x.std()"
      ],
      "execution_count": 0,
      "outputs": [
        {
          "output_type": "execute_result",
          "data": {
            "text/plain": [
              "tensor(1.)"
            ]
          },
          "metadata": {
            "tags": []
          },
          "execution_count": 12
        }
      ]
    },
    {
      "cell_type": "code",
      "metadata": {
        "id": "Bm3FVt_i8Vsp",
        "colab_type": "code",
        "outputId": "02a26914-92ed-4ec3-e4e3-57c298c3ab21",
        "colab": {
          "base_uri": "https://localhost:8080/"
        }
      },
      "source": [
        "x.max()"
      ],
      "execution_count": 0,
      "outputs": [
        {
          "output_type": "execute_result",
          "data": {
            "text/plain": [
              "tensor(3.)"
            ]
          },
          "metadata": {
            "tags": []
          },
          "execution_count": 13
        }
      ]
    },
    {
      "cell_type": "code",
      "metadata": {
        "id": "Ti0aHGQY8X4i",
        "colab_type": "code",
        "outputId": "c20fedd4-ab30-4a82-f33b-16444321cbff",
        "colab": {
          "base_uri": "https://localhost:8080/"
        }
      },
      "source": [
        "x.argmax()  # the index of the maximum element of the tensor"
      ],
      "execution_count": 0,
      "outputs": [
        {
          "output_type": "execute_result",
          "data": {
            "text/plain": [
              "tensor(2)"
            ]
          },
          "metadata": {
            "tags": []
          },
          "execution_count": 14
        }
      ]
    },
    {
      "cell_type": "code",
      "metadata": {
        "id": "G0GKNSdD8il1",
        "colab_type": "code",
        "outputId": "358f10d7-e35a-4e04-d168-8736b031f7b2",
        "colab": {
          "base_uri": "https://localhost:8080/"
        }
      },
      "source": [
        "y = x = torch.arange(0, 9).reshape((3, 3))\n",
        "x"
      ],
      "execution_count": 0,
      "outputs": [
        {
          "output_type": "execute_result",
          "data": {
            "text/plain": [
              "tensor([[0, 1, 2],\n",
              "        [3, 4, 5],\n",
              "        [6, 7, 8]])"
            ]
          },
          "metadata": {
            "tags": []
          },
          "execution_count": 15
        }
      ]
    },
    {
      "cell_type": "code",
      "metadata": {
        "id": "Lv0kzcqg8kVy",
        "colab_type": "code",
        "outputId": "3b630c1e-27d3-403e-818f-f848a65ef64e",
        "colab": {
          "base_uri": "https://localhost:8080/"
        }
      },
      "source": [
        "x.shape"
      ],
      "execution_count": 0,
      "outputs": [
        {
          "output_type": "execute_result",
          "data": {
            "text/plain": [
              "torch.Size([3, 3])"
            ]
          },
          "metadata": {
            "tags": []
          },
          "execution_count": 16
        }
      ]
    },
    {
      "cell_type": "code",
      "metadata": {
        "id": "G2mWixrE8lRT",
        "colab_type": "code",
        "outputId": "80766537-c50a-4bb4-c17b-cb3747a0db43",
        "colab": {
          "base_uri": "https://localhost:8080/"
        }
      },
      "source": [
        "x.dim()"
      ],
      "execution_count": 0,
      "outputs": [
        {
          "output_type": "execute_result",
          "data": {
            "text/plain": [
              "2"
            ]
          },
          "metadata": {
            "tags": []
          },
          "execution_count": 17
        }
      ]
    },
    {
      "cell_type": "code",
      "metadata": {
        "id": "QIPcHHeF8sS1",
        "colab_type": "code",
        "outputId": "3489ca23-955b-4325-adcd-a69b69a69a82",
        "colab": {
          "base_uri": "https://localhost:8080/"
        }
      },
      "source": [
        "x @ y # Matrix multiplication"
      ],
      "execution_count": 0,
      "outputs": [
        {
          "output_type": "execute_result",
          "data": {
            "text/plain": [
              "tensor([[ 15,  18,  21],\n",
              "        [ 42,  54,  66],\n",
              "        [ 69,  90, 111]])"
            ]
          },
          "metadata": {
            "tags": []
          },
          "execution_count": 18
        }
      ]
    },
    {
      "cell_type": "code",
      "metadata": {
        "id": "7aa2252g80Fi",
        "colab_type": "code",
        "outputId": "8883ed16-11e7-49ce-8945-486245c6f939",
        "colab": {
          "base_uri": "https://localhost:8080/"
        }
      },
      "source": [
        "x = torch.randn((2, 3, 1, 10, 10))\n",
        "x.shape"
      ],
      "execution_count": 0,
      "outputs": [
        {
          "output_type": "execute_result",
          "data": {
            "text/plain": [
              "torch.Size([2, 3, 1, 10, 10])"
            ]
          },
          "metadata": {
            "tags": []
          },
          "execution_count": 19
        }
      ]
    },
    {
      "cell_type": "code",
      "metadata": {
        "id": "5ZhKvwAi9BFN",
        "colab_type": "code",
        "outputId": "ac918c87-5d4c-4044-9e27-0926cd2c993b",
        "colab": {
          "base_uri": "https://localhost:8080/"
        }
      },
      "source": [
        "x.squeeze().shape  # squeeze remove dimensions of size one."
      ],
      "execution_count": 0,
      "outputs": [
        {
          "output_type": "execute_result",
          "data": {
            "text/plain": [
              "torch.Size([2, 3, 10, 10])"
            ]
          },
          "metadata": {
            "tags": []
          },
          "execution_count": 20
        }
      ]
    },
    {
      "cell_type": "code",
      "metadata": {
        "id": "cl6xpAMD9H9Y",
        "colab_type": "code",
        "outputId": "7721dc2c-8a9c-47cf-869a-222e46fae1ae",
        "colab": {
          "base_uri": "https://localhost:8080/"
        }
      },
      "source": [
        "x.unsqueeze(dim=4).shape  # unsqueeze adds a new dimension of size one at dimensional index `dim`."
      ],
      "execution_count": 0,
      "outputs": [
        {
          "output_type": "execute_result",
          "data": {
            "text/plain": [
              "torch.Size([2, 3, 1, 10, 1, 10])"
            ]
          },
          "metadata": {
            "tags": []
          },
          "execution_count": 21
        }
      ]
    },
    {
      "cell_type": "code",
      "metadata": {
        "id": "G9NDI0K695kr",
        "colab_type": "code",
        "outputId": "73c99818-5660-4617-8acd-d78f8bbc4b68",
        "colab": {
          "base_uri": "https://localhost:8080/"
        }
      },
      "source": [
        "x = torch.arange(0, 100).reshape((2, 5, 10))\n",
        "x"
      ],
      "execution_count": 0,
      "outputs": [
        {
          "output_type": "execute_result",
          "data": {
            "text/plain": [
              "tensor([[[ 0,  1,  2,  3,  4,  5,  6,  7,  8,  9],\n",
              "         [10, 11, 12, 13, 14, 15, 16, 17, 18, 19],\n",
              "         [20, 21, 22, 23, 24, 25, 26, 27, 28, 29],\n",
              "         [30, 31, 32, 33, 34, 35, 36, 37, 38, 39],\n",
              "         [40, 41, 42, 43, 44, 45, 46, 47, 48, 49]],\n",
              "\n",
              "        [[50, 51, 52, 53, 54, 55, 56, 57, 58, 59],\n",
              "         [60, 61, 62, 63, 64, 65, 66, 67, 68, 69],\n",
              "         [70, 71, 72, 73, 74, 75, 76, 77, 78, 79],\n",
              "         [80, 81, 82, 83, 84, 85, 86, 87, 88, 89],\n",
              "         [90, 91, 92, 93, 94, 95, 96, 97, 98, 99]]])"
            ]
          },
          "metadata": {
            "tags": []
          },
          "execution_count": 22
        }
      ]
    },
    {
      "cell_type": "code",
      "metadata": {
        "id": "VC1u_f0A9_5R",
        "colab_type": "code",
        "outputId": "bc8cf07c-ab49-4582-b425-7dfa4ca60037",
        "colab": {
          "base_uri": "https://localhost:8080/"
        }
      },
      "source": [
        "x.reshape((10, 10))  # We can squash any number of dimensions into one using reshape"
      ],
      "execution_count": 0,
      "outputs": [
        {
          "output_type": "execute_result",
          "data": {
            "text/plain": [
              "tensor([[ 0,  1,  2,  3,  4,  5,  6,  7,  8,  9],\n",
              "        [10, 11, 12, 13, 14, 15, 16, 17, 18, 19],\n",
              "        [20, 21, 22, 23, 24, 25, 26, 27, 28, 29],\n",
              "        [30, 31, 32, 33, 34, 35, 36, 37, 38, 39],\n",
              "        [40, 41, 42, 43, 44, 45, 46, 47, 48, 49],\n",
              "        [50, 51, 52, 53, 54, 55, 56, 57, 58, 59],\n",
              "        [60, 61, 62, 63, 64, 65, 66, 67, 68, 69],\n",
              "        [70, 71, 72, 73, 74, 75, 76, 77, 78, 79],\n",
              "        [80, 81, 82, 83, 84, 85, 86, 87, 88, 89],\n",
              "        [90, 91, 92, 93, 94, 95, 96, 97, 98, 99]])"
            ]
          },
          "metadata": {
            "tags": []
          },
          "execution_count": 23
        }
      ]
    },
    {
      "cell_type": "code",
      "metadata": {
        "id": "aNJTdGXV-IX0",
        "colab_type": "code",
        "outputId": "a60261d2-c146-4f07-947a-58625a637e26",
        "colab": {
          "base_uri": "https://localhost:8080/"
        }
      },
      "source": [
        "# Reshaping doesn't create new data, it produces a view on existing data,\n",
        "# if you update that data, you'll update the old tensors it came from.\n",
        "\n",
        "y = x.reshape((10, 10))\n",
        "y[0, 0] = 100\n",
        "print(y)\n",
        "print(x)  # notice that the data in x has changed too!"
      ],
      "execution_count": 0,
      "outputs": [
        {
          "output_type": "stream",
          "text": [
            "tensor([[100,   1,   2,   3,   4,   5,   6,   7,   8,   9],\n",
            "        [ 10,  11,  12,  13,  14,  15,  16,  17,  18,  19],\n",
            "        [ 20,  21,  22,  23,  24,  25,  26,  27,  28,  29],\n",
            "        [ 30,  31,  32,  33,  34,  35,  36,  37,  38,  39],\n",
            "        [ 40,  41,  42,  43,  44,  45,  46,  47,  48,  49],\n",
            "        [ 50,  51,  52,  53,  54,  55,  56,  57,  58,  59],\n",
            "        [ 60,  61,  62,  63,  64,  65,  66,  67,  68,  69],\n",
            "        [ 70,  71,  72,  73,  74,  75,  76,  77,  78,  79],\n",
            "        [ 80,  81,  82,  83,  84,  85,  86,  87,  88,  89],\n",
            "        [ 90,  91,  92,  93,  94,  95,  96,  97,  98,  99]])\n",
            "tensor([[[100,   1,   2,   3,   4,   5,   6,   7,   8,   9],\n",
            "         [ 10,  11,  12,  13,  14,  15,  16,  17,  18,  19],\n",
            "         [ 20,  21,  22,  23,  24,  25,  26,  27,  28,  29],\n",
            "         [ 30,  31,  32,  33,  34,  35,  36,  37,  38,  39],\n",
            "         [ 40,  41,  42,  43,  44,  45,  46,  47,  48,  49]],\n",
            "\n",
            "        [[ 50,  51,  52,  53,  54,  55,  56,  57,  58,  59],\n",
            "         [ 60,  61,  62,  63,  64,  65,  66,  67,  68,  69],\n",
            "         [ 70,  71,  72,  73,  74,  75,  76,  77,  78,  79],\n",
            "         [ 80,  81,  82,  83,  84,  85,  86,  87,  88,  89],\n",
            "         [ 90,  91,  92,  93,  94,  95,  96,  97,  98,  99]]])\n"
          ],
          "name": "stdout"
        }
      ]
    },
    {
      "cell_type": "markdown",
      "metadata": {
        "id": "QlR2o4B8-7Kc",
        "colab_type": "text"
      },
      "source": [
        "## Building Your First Fully Connected Network"
      ]
    },
    {
      "cell_type": "code",
      "metadata": {
        "id": "AZnwuPFB--2h",
        "colab_type": "code",
        "outputId": "52df945f-a1e9-45c5-cfc0-c312836c1fcd",
        "colab": {
          "base_uri": "https://localhost:8080/",
          "height": 34
        }
      },
      "source": [
        "from sklearn import datasets\n",
        "iris = datasets.load_iris()  # datasets are stored in a dictionary containing an array of features and targets\n",
        "iris.keys()"
      ],
      "execution_count": 0,
      "outputs": [
        {
          "output_type": "execute_result",
          "data": {
            "text/plain": [
              "dict_keys(['data', 'target', 'target_names', 'DESCR', 'feature_names', 'filename'])"
            ]
          },
          "metadata": {
            "tags": []
          },
          "execution_count": 25
        }
      ]
    },
    {
      "cell_type": "code",
      "metadata": {
        "id": "Isb-VxZP_J7j",
        "colab_type": "code",
        "outputId": "fa80cf46-d695-4a1c-c7ef-1af9465eeef9",
        "colab": {
          "base_uri": "https://localhost:8080/",
          "height": 34
        }
      },
      "source": [
        "iris['data'].shape, iris['data'].dtype"
      ],
      "execution_count": 0,
      "outputs": [
        {
          "output_type": "execute_result",
          "data": {
            "text/plain": [
              "((150, 4), dtype('float64'))"
            ]
          },
          "metadata": {
            "tags": []
          },
          "execution_count": 26
        }
      ]
    },
    {
      "cell_type": "markdown",
      "metadata": {
        "id": "DmmCATIm_Psf",
        "colab_type": "text"
      },
      "source": [
        "The first 15 examples of the data:"
      ]
    },
    {
      "cell_type": "code",
      "metadata": {
        "id": "TOmXMw2x_NWT",
        "colab_type": "code",
        "outputId": "167c4161-8042-4247-9f51-a1b63ede4f62",
        "colab": {
          "base_uri": "https://localhost:8080/",
          "height": 272
        }
      },
      "source": [
        "iris['data'][:15]"
      ],
      "execution_count": 0,
      "outputs": [
        {
          "output_type": "execute_result",
          "data": {
            "text/plain": [
              "array([[5.1, 3.5, 1.4, 0.2],\n",
              "       [4.9, 3. , 1.4, 0.2],\n",
              "       [4.7, 3.2, 1.3, 0.2],\n",
              "       [4.6, 3.1, 1.5, 0.2],\n",
              "       [5. , 3.6, 1.4, 0.2],\n",
              "       [5.4, 3.9, 1.7, 0.4],\n",
              "       [4.6, 3.4, 1.4, 0.3],\n",
              "       [5. , 3.4, 1.5, 0.2],\n",
              "       [4.4, 2.9, 1.4, 0.2],\n",
              "       [4.9, 3.1, 1.5, 0.1],\n",
              "       [5.4, 3.7, 1.5, 0.2],\n",
              "       [4.8, 3.4, 1.6, 0.2],\n",
              "       [4.8, 3. , 1.4, 0.1],\n",
              "       [4.3, 3. , 1.1, 0.1],\n",
              "       [5.8, 4. , 1.2, 0.2]])"
            ]
          },
          "metadata": {
            "tags": []
          },
          "execution_count": 27
        }
      ]
    },
    {
      "cell_type": "code",
      "metadata": {
        "id": "Ow5N2zl7_UV7",
        "colab_type": "code",
        "outputId": "0ed2918c-d466-4cb6-eb48-945280461734",
        "colab": {
          "base_uri": "https://localhost:8080/",
          "height": 85
        }
      },
      "source": [
        "iris['feature_names']"
      ],
      "execution_count": 0,
      "outputs": [
        {
          "output_type": "execute_result",
          "data": {
            "text/plain": [
              "['sepal length (cm)',\n",
              " 'sepal width (cm)',\n",
              " 'petal length (cm)',\n",
              " 'petal width (cm)']"
            ]
          },
          "metadata": {
            "tags": []
          },
          "execution_count": 28
        }
      ]
    },
    {
      "cell_type": "markdown",
      "metadata": {
        "id": "aaZz9Uen_djs",
        "colab_type": "text"
      },
      "source": [
        "The labels for the data are in a separate array called target.\n",
        "\n",
        "How many classes do we have?"
      ]
    },
    {
      "cell_type": "code",
      "metadata": {
        "id": "582hkX5Q_eBg",
        "colab_type": "code",
        "outputId": "7ff195f1-65eb-4bb1-bc2e-13d903d14bb5",
        "colab": {
          "base_uri": "https://localhost:8080/",
          "height": 34
        }
      },
      "source": [
        "np.unique(iris['target'])"
      ],
      "execution_count": 0,
      "outputs": [
        {
          "output_type": "execute_result",
          "data": {
            "text/plain": [
              "array([0, 1, 2])"
            ]
          },
          "metadata": {
            "tags": []
          },
          "execution_count": 29
        }
      ]
    },
    {
      "cell_type": "markdown",
      "metadata": {
        "id": "ZR-a1fMv_mCb",
        "colab_type": "text"
      },
      "source": [
        "What do the labels correspond to?"
      ]
    },
    {
      "cell_type": "code",
      "metadata": {
        "id": "gRD30mHz_pbg",
        "colab_type": "code",
        "outputId": "f14efe96-217f-414c-9c9f-5a607be18ec9",
        "colab": {
          "base_uri": "https://localhost:8080/",
          "height": 34
        }
      },
      "source": [
        "iris['target_names']"
      ],
      "execution_count": 0,
      "outputs": [
        {
          "output_type": "execute_result",
          "data": {
            "text/plain": [
              "array(['setosa', 'versicolor', 'virginica'], dtype='<U10')"
            ]
          },
          "metadata": {
            "tags": []
          },
          "execution_count": 30
        }
      ]
    },
    {
      "cell_type": "code",
      "metadata": {
        "id": "3vN7VVLEABjA",
        "colab_type": "code",
        "outputId": "7aa1ed65-516b-437d-9462-1c5d48dd3db6",
        "colab": {
          "base_uri": "https://localhost:8080/",
          "height": 746
        }
      },
      "source": [
        "%matplotlib inline\n",
        "import seaborn as sns\n",
        "import pandas as pd\n",
        "\n",
        "features_df = pd.DataFrame(\n",
        "    iris['data'],\n",
        "    columns=iris['feature_names']\n",
        ")\n",
        "features_df['label'] = iris['target_names'][iris['target']]\n",
        "sns.pairplot(features_df, hue='label')"
      ],
      "execution_count": 0,
      "outputs": [
        {
          "output_type": "execute_result",
          "data": {
            "text/plain": [
              "<seaborn.axisgrid.PairGrid at 0x7f0dcb2f3978>"
            ]
          },
          "metadata": {
            "tags": []
          },
          "execution_count": 31
        },
        {
          "output_type": "display_data",
          "data": {
            "image/png": "[encoded data removed]",
            "text/plain": [
              "<Figure size 804.75x720 with 20 Axes>"
            ]
          },
          "metadata": {
            "tags": []
          }
        }
      ]
    },
    {
      "cell_type": "markdown",
      "metadata": {
        "id": "Pq8eWhYKAij6",
        "colab_type": "text"
      },
      "source": [
        "Typically we normalise features input to networks as this helps speed learning up as the loss landscape becomes easier to traverse (for more details see slides 11-13 in lecture 6 of Geoff Hinton's course)."
      ]
    },
    {
      "cell_type": "code",
      "metadata": {
        "id": "lIhnlEkAAbSR",
        "colab_type": "code",
        "colab": {}
      },
      "source": [
        "preprocessed_features = (iris['data'] - iris['data'].mean(axis=0)) / iris['data'].std(axis=0)"
      ],
      "execution_count": 0,
      "outputs": []
    },
    {
      "cell_type": "markdown",
      "metadata": {
        "id": "GfH1X88xAllT",
        "colab_type": "text"
      },
      "source": [
        "Next we want to split this into a training and testing split.\n",
        "\n",
        "Why do we want to do this? - So we have data left to test our model on\n",
        "\n",
        "First we need to shuffle the data\n",
        "\n",
        "Why do we need to shuffle before splitting it? - Data is ordered from 0 to 2 for targets"
      ]
    },
    {
      "cell_type": "code",
      "metadata": {
        "id": "LlRLVXAaAomV",
        "colab_type": "code",
        "colab": {}
      },
      "source": [
        "from sklearn.model_selection import train_test_split\n",
        "\n",
        "labels = iris['target']\n",
        "# train_test_split takes care of the shuffling and splitting process\n",
        "train_features, test_features, train_labels, test_labels = train_test_split(preprocessed_features, labels, test_size=1/3)"
      ],
      "execution_count": 0,
      "outputs": []
    },
    {
      "cell_type": "markdown",
      "metadata": {
        "id": "WzkFQPApBMdg",
        "colab_type": "text"
      },
      "source": [
        "Finally, we need to take our numpy arrays and put them into tensors for processing by PyTorch."
      ]
    },
    {
      "cell_type": "code",
      "metadata": {
        "id": "xzMqSAF0BLao",
        "colab_type": "code",
        "colab": {}
      },
      "source": [
        "features = {\n",
        "    'train': torch.tensor(train_features, dtype=torch.float32),\n",
        "    'test': torch.tensor(test_features, dtype=torch.float32),\n",
        "}\n",
        "labels = {\n",
        "    'train': torch.tensor(train_labels, dtype=torch.long),\n",
        "    'test': torch.tensor(test_labels, dtype=torch.long),\n",
        "}"
      ],
      "execution_count": 0,
      "outputs": []
    },
    {
      "cell_type": "markdown",
      "metadata": {
        "id": "RxhwvCi1B1xd",
        "colab_type": "text"
      },
      "source": [
        "Now we need to create a fully connected layer that takes an input $x$, and trainable weights $W$ and biases $b$ and computes\n",
        "\n",
        "$$Wx + b$$\n",
        "PyTorch has a library of common layer types including a fully connected layer, its class name is Linear as the layer produces a linear transformation of the input data.\n",
        "\n",
        "We have a single fully connected layer, but we want to stack these to produce a neural network composed of two layers (a.k.a Multi-layer Perceptron or MLP):\n",
        "\n",
        "Input size: 4 features\n",
        "\n",
        "Hidden layer size: 100 units\n",
        "\n",
        "Output size: 3 classes\n",
        "\n",
        "We need to put a non-linear function in between these two layers as otherwise the transformation is just as powerful in representational capacity as a linear classifier. We want to produce non-linear decision boundaries as these will better fit our data.\n",
        "\n",
        "Now we can define a MLP class that brings together 2 fully connected layers with a ReLU on the output of the first layer."
      ]
    },
    {
      "cell_type": "code",
      "metadata": {
        "id": "LRwtP4TrB223",
        "colab_type": "code",
        "colab": {}
      },
      "source": [
        "from torch import nn\n",
        "from torch.nn import functional as F\n",
        "from typing import Callable\n",
        "\n",
        "\n",
        "class MLP(nn.Module):\n",
        "    def __init__(self,\n",
        "                 input_size: int,\n",
        "                 hidden_layer_size: int,\n",
        "                 output_size: int,\n",
        "                 activation_fn: Callable[[torch.Tensor], torch.Tensor] = F.relu):\n",
        "        super().__init__()\n",
        "        self.l1 = nn.Linear(input_size, hidden_layer_size)\n",
        "        self.l2 = nn.Linear(hidden_layer_size, output_size)\n",
        "        self.activation_fn = activation_fn\n",
        "        \n",
        "    def forward(self, inputs: torch.Tensor) -> torch.Tensor:\n",
        "        x = self.l1(inputs)\n",
        "        x = self.activation_fn(x)\n",
        "        x = self.l2(x)\n",
        "        return x"
      ],
      "execution_count": 0,
      "outputs": []
    },
    {
      "cell_type": "markdown",
      "metadata": {
        "id": "FUjj1KWiDHTY",
        "colab_type": "text"
      },
      "source": [
        "Let's deconstruct the signature of the forward method\n",
        "\n",
        "\n",
        "```\n",
        "def forward(self, inputs: torch.Tensor) -> torch.Tensor:\n",
        "    ...\n",
        "```\n",
        "\n",
        "\n",
        "inputs: torch.Tensor says that the parameter inputs is of type torch.Tensor. The return type of the method is denoted by -> torch.Tensor stating that the method returns a tensor.\n",
        "\n",
        "We use a generic type Callable which defines the type of a function, it has the format Callable[[args], return_type]. activation_fn: Callable[[torch.Tensor], torch.Tensor] means that activation_fn should be a function that takes in a single argument of type torch.Tensor and returns a torch.Tensor. We've also defined the default value of this parameter to be F.relu which is the functional implementation of a rectified linear unit in PyTorch.\n",
        "\n",
        "Now we can instantiate the MLP class for our problem:"
      ]
    },
    {
      "cell_type": "code",
      "metadata": {
        "id": "-FwJjojADwxC",
        "colab_type": "code",
        "colab": {}
      },
      "source": [
        "feature_count = 4\n",
        "hidden_layer_size = 100\n",
        "class_count = 3 \n",
        "model = MLP(feature_count, hidden_layer_size, class_count)"
      ],
      "execution_count": 0,
      "outputs": []
    },
    {
      "cell_type": "markdown",
      "metadata": {
        "id": "j7lPXihZEfNC",
        "colab_type": "text"
      },
      "source": [
        "Our model produces a scalar value for each class for each example propagated through the network. We need to squash these values into a pseudo-probability distribution. We can do that with the softmax distribution $\\mathrm{softmax} : \\mathbb{R}^n \\rightarrow [0, 1]^n$. It is defined as follows\n",
        "\n",
        "$$\\mathrm{softmax}(\\mathbf{x})_i = \\frac{e^{\\mathbf{x}_i}}{\\sum_j e^{\\mathbf{x}_j}}$$\n",
        "This definition results in the output vector summing to one:$$\\sum_i\\mathrm{softmax}(\\mathbf{x})_i = 1$$\n",
        "\n",
        "To train our network we need some way to measure the error between the output of the network $\\mathbf{\\hat{p}} : [0, 1]^C$ where $C$ is the number of classes and the label encoded into a one-hot representation $y: \\{0, 1\\}^C$. We measure the cross-entropy between them:\n",
        "\n",
        "$$\\mathrm{CE}(\\mathbf{p}, y) = - \\sum_c^C y_c \\log(p_c)$$\n",
        "We'll run a forward pass through the network to compute its predictions which we can then use to compute the loss function."
      ]
    },
    {
      "cell_type": "code",
      "metadata": {
        "id": "Dq_GgJYxEbhn",
        "colab_type": "code",
        "colab": {}
      },
      "source": [
        "logits = model.forward(features['train'])"
      ],
      "execution_count": 0,
      "outputs": []
    },
    {
      "cell_type": "markdown",
      "metadata": {
        "id": "jK8-hVaFEzA6",
        "colab_type": "text"
      },
      "source": [
        "**Task**: Compute the loss of the logits against the training label `labels['train']` using the `nn.CrossEntropyLoss` class which combines the softmax and cross entopy functions into a single operation. Save this in a variable called loss. Note that you will have to instantiate the class before you can call it on your logits and labels."
      ]
    },
    {
      "cell_type": "code",
      "metadata": {
        "id": "sGh5Y7JjFQDu",
        "colab_type": "code",
        "colab": {}
      },
      "source": [
        "crossEntropyLoss = nn.CrossEntropyLoss()\n",
        "loss = crossEntropyLoss(logits, labels['train'])"
      ],
      "execution_count": 0,
      "outputs": []
    },
    {
      "cell_type": "markdown",
      "metadata": {
        "id": "qCc0wwDWG4-E",
        "colab_type": "text"
      },
      "source": [
        "We can now compute the model parameters' gradients by calling backward() on the loss."
      ]
    },
    {
      "cell_type": "code",
      "metadata": {
        "id": "MOfuvWI2G0uy",
        "colab_type": "code",
        "colab": {}
      },
      "source": [
        "loss.backward()"
      ],
      "execution_count": 0,
      "outputs": []
    },
    {
      "cell_type": "markdown",
      "metadata": {
        "id": "_4LpyhMdHEyM",
        "colab_type": "text"
      },
      "source": [
        "The gradients will be computed and propagated back through the network.\n",
        "\n",
        "We want to evaluate the quality of our networks predictions, accuracy is an informative metric for a classification task on a balanced dataset."
      ]
    },
    {
      "cell_type": "code",
      "metadata": {
        "id": "AFhySFfLHNHo",
        "colab_type": "code",
        "colab": {}
      },
      "source": [
        "def accuracy(probs: torch.FloatTensor, targets: torch.LongTensor) -> float:\n",
        "    \"\"\"\n",
        "    Args:\n",
        "        probs: A float32 tensor of shape ``(batch_size, class_count)`` where each value \n",
        "            at index ``i`` in a row represents the score of class ``i``.\n",
        "        targets: A long tensor of shape ``(batch_size,)`` containing the batch examples'\n",
        "            labels.\n",
        "    \"\"\"\n",
        "    decisions = probs.argmax(1)\n",
        "    targetsEqual = torch.eq(decisions, targets).sum().float()\n",
        "    check = targetsEqual/targets.shape[0]\n",
        "    return check\n",
        "    "
      ],
      "execution_count": 0,
      "outputs": []
    },
    {
      "cell_type": "code",
      "metadata": {
        "id": "nEybrESNM4jE",
        "colab_type": "code",
        "outputId": "f124ceb6-e7c1-468f-dadc-88bbb9361a1e",
        "colab": {
          "base_uri": "https://localhost:8080/",
          "height": 34
        }
      },
      "source": [
        "accuracy(logits, labels['train'])"
      ],
      "execution_count": 0,
      "outputs": [
        {
          "output_type": "execute_result",
          "data": {
            "text/plain": [
              "tensor(0.3400)"
            ]
          },
          "metadata": {
            "tags": []
          },
          "execution_count": 41
        }
      ]
    },
    {
      "cell_type": "code",
      "metadata": {
        "id": "UdpljYfiMo6P",
        "colab_type": "code",
        "outputId": "62e03774-a5e7-4c08-c458-34e3723567c5",
        "colab": {
          "base_uri": "https://localhost:8080/",
          "height": 34
        }
      },
      "source": [
        "def check_accuracy(probs: torch.FloatTensor,\n",
        "                   labels: torch.LongTensor,\n",
        "                   expected_accuracy: float):\n",
        "    actual_accuracy = accuracy(probs, labels)\n",
        "    assert actual_accuracy == expected_accuracy, f\"Expected accuracy to be {expected_accuracy} but was {actual_accuracy}\"\n",
        "\n",
        "check_accuracy(torch.tensor([[0, 1],\n",
        "                             [0, 1],\n",
        "                             [0, 1],\n",
        "                             [0, 1],\n",
        "                             [0, 1]]),\n",
        "               torch.ones(5, dtype=torch.long),\n",
        "               1.0)\n",
        "check_accuracy(torch.tensor([[1, 0],\n",
        "                             [0, 1],\n",
        "                             [0, 1],\n",
        "                             [0, 1],\n",
        "                             [0, 1]]),\n",
        "               torch.ones(5, dtype=torch.long),\n",
        "               0.8)\n",
        "check_accuracy(torch.tensor([[1, 0],\n",
        "                             [1, 0],\n",
        "                             [0, 1],\n",
        "                             [0, 1],\n",
        "                             [0, 1]]),\n",
        "               torch.ones(5, dtype=torch.long),\n",
        "               0.6)\n",
        "check_accuracy(torch.tensor([[1, 0],\n",
        "                             [1, 0],\n",
        "                             [1, 0],\n",
        "                             [1, 0],\n",
        "                             [1, 0]]),\n",
        "               torch.ones(5, dtype=torch.long),\n",
        "               0.0)\n",
        "\n",
        "check_accuracy(logits, labels['train'], accuracy(logits, labels['train']))\n",
        "\n",
        "print(\"All test cases passed\")\n",
        "\n"
      ],
      "execution_count": 0,
      "outputs": [
        {
          "output_type": "stream",
          "text": [
            "All test cases passed\n"
          ],
          "name": "stdout"
        }
      ]
    },
    {
      "cell_type": "markdown",
      "metadata": {
        "id": "Ie7Ge8AEOqKy",
        "colab_type": "text"
      },
      "source": [
        "We have our network and a way of computing the error of its output with respect to labels. Now we just need something to optimize the network's weights. We can use stochastic gradient descent (SGD) for this purpose. It is a simple hill descending algorithm, taking a step in the steepest downhill direction (the negative of the gradient) in order to reduce the loss.\n",
        "\n",
        "We now implement the training that optimizes the network's parameters over the dataset repeatedly. Each iteration through the dataset is known as an epoch. It is typical to train networks for anywhere between tens to thousands of epochs."
      ]
    },
    {
      "cell_type": "code",
      "metadata": {
        "id": "rWNTez_PO6gZ",
        "colab_type": "code",
        "outputId": "529ec9c0-9ad4-4bde-a9d8-5a1cc6c42d52",
        "colab": {
          "base_uri": "https://localhost:8080/",
          "height": 1000
        }
      },
      "source": [
        "from torch import optim\n",
        "\n",
        "\n",
        "# Define the model to optimze\n",
        "model = MLP(feature_count, hidden_layer_size, class_count)\n",
        "\n",
        "# The optimizer we'll use to update the model parameters\n",
        "optimizer = optim.SGD(model.parameters(), lr=0.05)\n",
        "\n",
        "# Now we define the loss function.\n",
        "criterion = nn.CrossEntropyLoss() \n",
        "\n",
        "# Now we iterate over the dataset a number of times. Each iteration of the entire dataset \n",
        "# is called an epoch.\n",
        "for epoch in range(0, 100):\n",
        "    # We compute the forward pass of the network\n",
        "    logits = model.forward(features['train'])\n",
        "    # Then the value of loss function \n",
        "    loss = criterion(logits,  labels['train'])\n",
        "    \n",
        "    # How well the network does on the batch is an indication of how well training is \n",
        "    # progressing\n",
        "    print(\"epoch: {} train accuracy: {:2.2f}, loss: {:5.5f}\".format(\n",
        "        epoch,\n",
        "        accuracy(logits, labels['train']) * 100,\n",
        "        loss.item()\n",
        "    ))\n",
        "    \n",
        "    # Now we compute the backward pass, which populates the `.grad` attributes of the parameters\n",
        "    loss.backward()\n",
        "    # Now we update the model parameters using those gradients\n",
        "    optimizer.step()\n",
        "    # Now we need to zero out the `.grad` buffers as otherwise on the next backward pass we'll add the \n",
        "    # new gradients to the old ones.\n",
        "    optimizer.zero_grad()\n",
        "    \n",
        "# Finally we can test our model on the test set and get an unbiased estimate of its performance.    \n",
        "logits = model.forward(features['test'])    \n",
        "test_accuracy = accuracy(logits, labels['test']) * 100\n",
        "print(\"test accuracy: {:2.2f}\".format(test_accuracy))"
      ],
      "execution_count": 0,
      "outputs": [
        {
          "output_type": "stream",
          "text": [
            "epoch: 0 train accuracy: 69.00, loss: 1.01083\n",
            "epoch: 1 train accuracy: 69.00, loss: 0.98924\n",
            "epoch: 2 train accuracy: 70.00, loss: 0.96880\n",
            "epoch: 3 train accuracy: 70.00, loss: 0.94942\n",
            "epoch: 4 train accuracy: 70.00, loss: 0.93106\n",
            "epoch: 5 train accuracy: 70.00, loss: 0.91364\n",
            "epoch: 6 train accuracy: 70.00, loss: 0.89711\n",
            "epoch: 7 train accuracy: 70.00, loss: 0.88141\n",
            "epoch: 8 train accuracy: 70.00, loss: 0.86650\n",
            "epoch: 9 train accuracy: 70.00, loss: 0.85232\n",
            "epoch: 10 train accuracy: 70.00, loss: 0.83882\n",
            "epoch: 11 train accuracy: 70.00, loss: 0.82597\n",
            "epoch: 12 train accuracy: 70.00, loss: 0.81373\n",
            "epoch: 13 train accuracy: 70.00, loss: 0.80205\n",
            "epoch: 14 train accuracy: 70.00, loss: 0.79090\n",
            "epoch: 15 train accuracy: 70.00, loss: 0.78025\n",
            "epoch: 16 train accuracy: 70.00, loss: 0.77006\n",
            "epoch: 17 train accuracy: 70.00, loss: 0.76031\n",
            "epoch: 18 train accuracy: 70.00, loss: 0.75097\n",
            "epoch: 19 train accuracy: 70.00, loss: 0.74202\n",
            "epoch: 20 train accuracy: 70.00, loss: 0.73343\n",
            "epoch: 21 train accuracy: 70.00, loss: 0.72518\n",
            "epoch: 22 train accuracy: 70.00, loss: 0.71726\n",
            "epoch: 23 train accuracy: 70.00, loss: 0.70963\n",
            "epoch: 24 train accuracy: 70.00, loss: 0.70229\n",
            "epoch: 25 train accuracy: 70.00, loss: 0.69522\n",
            "epoch: 26 train accuracy: 70.00, loss: 0.68841\n",
            "epoch: 27 train accuracy: 70.00, loss: 0.68183\n",
            "epoch: 28 train accuracy: 70.00, loss: 0.67548\n",
            "epoch: 29 train accuracy: 70.00, loss: 0.66934\n",
            "epoch: 30 train accuracy: 70.00, loss: 0.66341\n",
            "epoch: 31 train accuracy: 71.00, loss: 0.65767\n",
            "epoch: 32 train accuracy: 71.00, loss: 0.65211\n",
            "epoch: 33 train accuracy: 71.00, loss: 0.64673\n",
            "epoch: 34 train accuracy: 71.00, loss: 0.64150\n",
            "epoch: 35 train accuracy: 71.00, loss: 0.63644\n",
            "epoch: 36 train accuracy: 71.00, loss: 0.63152\n",
            "epoch: 37 train accuracy: 71.00, loss: 0.62675\n",
            "epoch: 38 train accuracy: 71.00, loss: 0.62211\n",
            "epoch: 39 train accuracy: 71.00, loss: 0.61759\n",
            "epoch: 40 train accuracy: 71.00, loss: 0.61321\n",
            "epoch: 41 train accuracy: 72.00, loss: 0.60893\n",
            "epoch: 42 train accuracy: 72.00, loss: 0.60477\n",
            "epoch: 43 train accuracy: 72.00, loss: 0.60072\n",
            "epoch: 44 train accuracy: 72.00, loss: 0.59677\n",
            "epoch: 45 train accuracy: 73.00, loss: 0.59292\n",
            "epoch: 46 train accuracy: 73.00, loss: 0.58916\n",
            "epoch: 47 train accuracy: 73.00, loss: 0.58549\n",
            "epoch: 48 train accuracy: 73.00, loss: 0.58191\n",
            "epoch: 49 train accuracy: 73.00, loss: 0.57841\n",
            "epoch: 50 train accuracy: 73.00, loss: 0.57499\n",
            "epoch: 51 train accuracy: 73.00, loss: 0.57165\n",
            "epoch: 52 train accuracy: 73.00, loss: 0.56838\n",
            "epoch: 53 train accuracy: 73.00, loss: 0.56518\n",
            "epoch: 54 train accuracy: 73.00, loss: 0.56205\n",
            "epoch: 55 train accuracy: 76.00, loss: 0.55899\n",
            "epoch: 56 train accuracy: 76.00, loss: 0.55599\n",
            "epoch: 57 train accuracy: 76.00, loss: 0.55306\n",
            "epoch: 58 train accuracy: 76.00, loss: 0.55018\n",
            "epoch: 59 train accuracy: 76.00, loss: 0.54736\n",
            "epoch: 60 train accuracy: 76.00, loss: 0.54459\n",
            "epoch: 61 train accuracy: 76.00, loss: 0.54188\n",
            "epoch: 62 train accuracy: 76.00, loss: 0.53922\n",
            "epoch: 63 train accuracy: 76.00, loss: 0.53661\n",
            "epoch: 64 train accuracy: 76.00, loss: 0.53405\n",
            "epoch: 65 train accuracy: 76.00, loss: 0.53153\n",
            "epoch: 66 train accuracy: 76.00, loss: 0.52907\n",
            "epoch: 67 train accuracy: 76.00, loss: 0.52664\n",
            "epoch: 68 train accuracy: 76.00, loss: 0.52426\n",
            "epoch: 69 train accuracy: 76.00, loss: 0.52192\n",
            "epoch: 70 train accuracy: 76.00, loss: 0.51962\n",
            "epoch: 71 train accuracy: 76.00, loss: 0.51736\n",
            "epoch: 72 train accuracy: 76.00, loss: 0.51514\n",
            "epoch: 73 train accuracy: 76.00, loss: 0.51296\n",
            "epoch: 74 train accuracy: 76.00, loss: 0.51081\n",
            "epoch: 75 train accuracy: 76.00, loss: 0.50869\n",
            "epoch: 76 train accuracy: 77.00, loss: 0.50661\n",
            "epoch: 77 train accuracy: 78.00, loss: 0.50457\n",
            "epoch: 78 train accuracy: 78.00, loss: 0.50256\n",
            "epoch: 79 train accuracy: 79.00, loss: 0.50057\n",
            "epoch: 80 train accuracy: 79.00, loss: 0.49862\n",
            "epoch: 81 train accuracy: 79.00, loss: 0.49670\n",
            "epoch: 82 train accuracy: 79.00, loss: 0.49481\n",
            "epoch: 83 train accuracy: 78.00, loss: 0.49295\n",
            "epoch: 84 train accuracy: 79.00, loss: 0.49111\n",
            "epoch: 85 train accuracy: 79.00, loss: 0.48930\n",
            "epoch: 86 train accuracy: 79.00, loss: 0.48752\n",
            "epoch: 87 train accuracy: 79.00, loss: 0.48576\n",
            "epoch: 88 train accuracy: 79.00, loss: 0.48403\n",
            "epoch: 89 train accuracy: 79.00, loss: 0.48232\n",
            "epoch: 90 train accuracy: 80.00, loss: 0.48064\n",
            "epoch: 91 train accuracy: 80.00, loss: 0.47898\n",
            "epoch: 92 train accuracy: 80.00, loss: 0.47735\n",
            "epoch: 93 train accuracy: 81.00, loss: 0.47573\n",
            "epoch: 94 train accuracy: 81.00, loss: 0.47414\n",
            "epoch: 95 train accuracy: 81.00, loss: 0.47257\n",
            "epoch: 96 train accuracy: 82.00, loss: 0.47102\n",
            "epoch: 97 train accuracy: 82.00, loss: 0.46949\n",
            "epoch: 98 train accuracy: 82.00, loss: 0.46798\n",
            "epoch: 99 train accuracy: 82.00, loss: 0.46649\n",
            "test accuracy: 84.00\n"
          ],
          "name": "stdout"
        }
      ]
    }
  ]
}